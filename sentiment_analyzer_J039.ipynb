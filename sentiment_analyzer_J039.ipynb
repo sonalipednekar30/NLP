{
  "nbformat": 4,
  "nbformat_minor": 0,
  "metadata": {
    "colab": {
      "name": "sentiment analyzer J039.ipynb",
      "provenance": [],
      "include_colab_link": true
    },
    "kernelspec": {
      "name": "python3",
      "display_name": "Python 3"
    }
  },
  "cells": [
    {
      "cell_type": "markdown",
      "metadata": {
        "id": "view-in-github",
        "colab_type": "text"
      },
      "source": [
        "<a href=\"https://colab.research.google.com/github/sonalipednekar30/NLP/blob/master/sentiment_analyzer_J039.ipynb\" target=\"_parent\"><img src=\"https://colab.research.google.com/assets/colab-badge.svg\" alt=\"Open In Colab\"/></a>"
      ]
    },
    {
      "cell_type": "code",
      "metadata": {
        "id": "vyEJ6bLJlnCg",
        "colab_type": "code",
        "colab": {
          "base_uri": "https://localhost:8080/",
          "height": 70
        },
        "outputId": "2dbffe6b-53a9-4bb4-8e1f-9634ce7a6423"
      },
      "source": [
        "from google.colab import files\n",
        "import pandas as pd\n",
        "from textblob import TextBlob\n",
        "import nltk\n",
        "from nltk.sentiment import sentiment_analyzer\n",
        "from nltk.sentiment.vader import SentimentIntensityAnalyzer\n",
        "from sklearn.metrics import confusion_matrix\n",
        "from matplotlib import pyplot as plt"
      ],
      "execution_count": 4,
      "outputs": [
        {
          "output_type": "stream",
          "text": [
            "/usr/local/lib/python3.6/dist-packages/nltk/twitter/__init__.py:20: UserWarning: The twython library has not been installed. Some functionality from the twitter package will not be available.\n",
            "  warnings.warn(\"The twython library has not been installed. \"\n"
          ],
          "name": "stderr"
        }
      ]
    },
    {
      "cell_type": "code",
      "metadata": {
        "id": "K46zEP-anRxN",
        "colab_type": "code",
        "colab": {}
      },
      "source": [
        "data=pd.read_csv(\"https://raw.githubusercontent.com/zfz/twitter_corpus/master/full-corpus.csv\")"
      ],
      "execution_count": 0,
      "outputs": []
    },
    {
      "cell_type": "code",
      "metadata": {
        "id": "MNKfHyypnR4z",
        "colab_type": "code",
        "colab": {
          "base_uri": "https://localhost:8080/",
          "height": 34
        },
        "outputId": "68c72f63-d56b-43fc-8ed1-b79f4ac92ec3"
      },
      "source": [
        "nltk.download('vader_lexicon')\n",
        "def sentiment(l):\n",
        "  sia = SentimentIntensityAnalyzer()\n",
        "  ps = sia.polarity_scores(l[0])\n",
        "  if ps['compound'] >= 0.05:\n",
        "    return 'positive'\n",
        "  elif ps['compound'] <= -0.05:\n",
        "    return 'negative'\n",
        "  else:\n",
        "    return 'neutral'\n",
        "  return ps"
      ],
      "execution_count": 8,
      "outputs": [
        {
          "output_type": "stream",
          "text": [
            "[nltk_data] Downloading package vader_lexicon to /root/nltk_data...\n"
          ],
          "name": "stdout"
        }
      ]
    },
    {
      "cell_type": "code",
      "metadata": {
        "id": "M9DUq_hlnR_v",
        "colab_type": "code",
        "colab": {
          "base_uri": "https://localhost:8080/",
          "height": 218
        },
        "outputId": "1fb49ebb-6d2e-4707-b946-74ccd2ffa898"
      },
      "source": [
        "data['sia'] = data[['TweetText']].apply(sentiment,axis = 1)\n",
        "data['sia']"
      ],
      "execution_count": 9,
      "outputs": [
        {
          "output_type": "execute_result",
          "data": {
            "text/plain": [
              "0        neutral\n",
              "1       positive\n",
              "2       positive\n",
              "3       positive\n",
              "4       positive\n",
              "          ...   \n",
              "5108     neutral\n",
              "5109    positive\n",
              "5110    negative\n",
              "5111     neutral\n",
              "5112     neutral\n",
              "Name: sia, Length: 5113, dtype: object"
            ]
          },
          "metadata": {
            "tags": []
          },
          "execution_count": 9
        }
      ]
    },
    {
      "cell_type": "code",
      "metadata": {
        "id": "tvYmR03SnSGb",
        "colab_type": "code",
        "colab": {
          "base_uri": "https://localhost:8080/",
          "height": 84
        },
        "outputId": "788e375c-6886-4956-b618-50bdfe4195d1"
      },
      "source": [
        "confusion_matrix = confusion_matrix(data['Sentiment'],data['sia'])\n",
        "confusion_matrix"
      ],
      "execution_count": 12,
      "outputs": [
        {
          "output_type": "execute_result",
          "data": {
            "text/plain": [
              "array([[   0,  238, 1189,  262],\n",
              "       [   0,  291,  138,  143],\n",
              "       [   0,  302, 1234,  797],\n",
              "       [   0,   47,   99,  373]])"
            ]
          },
          "metadata": {
            "tags": []
          },
          "execution_count": 12
        }
      ]
    }
  ]
}