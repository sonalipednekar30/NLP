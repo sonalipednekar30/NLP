{
  "nbformat": 4,
  "nbformat_minor": 0,
  "metadata": {
    "colab": {
      "name": "Neg_pos_sentiment.ipynb",
      "provenance": [],
      "include_colab_link": true
    },
    "kernelspec": {
      "name": "python3",
      "display_name": "Python 3"
    }
  },
  "cells": [
    {
      "cell_type": "markdown",
      "metadata": {
        "id": "view-in-github",
        "colab_type": "text"
      },
      "source": [
        "<a href=\"https://colab.research.google.com/github/sonalipednekar30/NLP/blob/lab_work/Neg_pos_sentiment.ipynb\" target=\"_parent\"><img src=\"https://colab.research.google.com/assets/colab-badge.svg\" alt=\"Open In Colab\"/></a>"
      ]
    },
    {
      "cell_type": "code",
      "metadata": {
        "id": "aX8isA0hAZsc",
        "colab_type": "code",
        "colab": {}
      },
      "source": [
        "import pandas as pd\n",
        "import re\n",
        "import gzip\n",
        "import nltk"
      ],
      "execution_count": 0,
      "outputs": []
    },
    {
      "cell_type": "code",
      "metadata": {
        "id": "Io9ISF4lAcJd",
        "colab_type": "code",
        "colab": {}
      },
      "source": [
        "df = pd.read_json(\"http://snap.stanford.edu/data/amazon/productGraph/categoryFiles/reviews_Office_Products_5.json.gz\" , lines=True)"
      ],
      "execution_count": 0,
      "outputs": []
    },
    {
      "cell_type": "code",
      "metadata": {
        "id": "uiqIlzTdAevS",
        "colab_type": "code",
        "colab": {}
      },
      "source": [
        "df=df.head(10)"
      ],
      "execution_count": 0,
      "outputs": []
    },
    {
      "cell_type": "code",
      "metadata": {
        "id": "ld8_q06VAhAv",
        "colab_type": "code",
        "colab": {
          "base_uri": "https://localhost:8080/",
          "height": 68
        },
        "outputId": "129ce32b-17de-4946-8dc0-93af50e4f275"
      },
      "source": [
        "nltk.download('punkt')"
      ],
      "execution_count": 4,
      "outputs": [
        {
          "output_type": "stream",
          "text": [
            "[nltk_data] Downloading package punkt to /root/nltk_data...\n",
            "[nltk_data]   Unzipping tokenizers/punkt.zip.\n"
          ],
          "name": "stdout"
        },
        {
          "output_type": "execute_result",
          "data": {
            "text/plain": [
              "True"
            ]
          },
          "metadata": {
            "tags": []
          },
          "execution_count": 4
        }
      ]
    },
    {
      "cell_type": "code",
      "metadata": {
        "id": "OwxaP41sAj-A",
        "colab_type": "code",
        "colab": {}
      },
      "source": [
        "def nltk_token(text):\n",
        "  nltk_t = {'tokenizer':[]}\n",
        "  nltk_t['tokenizer']=nltk.word_tokenize(text)\n",
        "  return nltk_t"
      ],
      "execution_count": 0,
      "outputs": []
    },
    {
      "cell_type": "code",
      "metadata": {
        "id": "xB9jUyMrAnDa",
        "colab_type": "code",
        "colab": {}
      },
      "source": [
        "df['reviewText_nltk_t']=df['reviewText'].apply(nltk_token)"
      ],
      "execution_count": 0,
      "outputs": []
    },
    {
      "cell_type": "code",
      "metadata": {
        "id": "4mn2OfwkAqcE",
        "colab_type": "code",
        "colab": {}
      },
      "source": [
        "from nltk.stem import WordNetLemmatizer"
      ],
      "execution_count": 0,
      "outputs": []
    },
    {
      "cell_type": "code",
      "metadata": {
        "id": "HGkMSOGtAszY",
        "colab_type": "code",
        "colab": {
          "base_uri": "https://localhost:8080/",
          "height": 68
        },
        "outputId": "547243d6-c4fd-45c7-9919-85c69bfc5a44"
      },
      "source": [
        "a=WordNetLemmatizer()\n",
        "nltk.download('wordnet')"
      ],
      "execution_count": 8,
      "outputs": [
        {
          "output_type": "stream",
          "text": [
            "[nltk_data] Downloading package wordnet to /root/nltk_data...\n",
            "[nltk_data]   Unzipping corpora/wordnet.zip.\n"
          ],
          "name": "stdout"
        },
        {
          "output_type": "execute_result",
          "data": {
            "text/plain": [
              "True"
            ]
          },
          "metadata": {
            "tags": []
          },
          "execution_count": 8
        }
      ]
    },
    {
      "cell_type": "code",
      "metadata": {
        "id": "DHzm8cLCAw8e",
        "colab_type": "code",
        "colab": {}
      },
      "source": [
        "def nltk_lemmatize(text):\n",
        "  nltk_l = {'lemmatizer':[]}\n",
        "  nltk_l['lemmatizer'] = print(a.lemmatize(text))\n",
        "  return nltk_l"
      ],
      "execution_count": 0,
      "outputs": []
    },
    {
      "cell_type": "code",
      "metadata": {
        "id": "rfJaBN9zAx1P",
        "colab_type": "code",
        "colab": {
          "base_uri": "https://localhost:8080/",
          "height": 207
        },
        "outputId": "89b2b3c2-9f22-43e5-bc16-be9e822932a1"
      },
      "source": [
        "df['reviewText_nltk_l']=df['reviewText'].apply(nltk_lemmatize)"
      ],
      "execution_count": 10,
      "outputs": [
        {
          "output_type": "stream",
          "text": [
            "I bought my first HP12C in about 1984 or so, and it served me faithfully until 2002 when I lost it while travelling.  I searched for another one to replace it, but found one difficult to come by in my area.  So, I decided to buy up and purchased an HP 49G.  What a mistake!  I know that many people view the HP 49G (now 49G+) as the flagship of the HP line, but for me that was a disaster.The 49G may be powerful, but using it is extremely counterintuitive...and the manual was sketchy at best.  The 12C, on the other hand, does what I need in a way that makes good sense to me.If you are looking for a solid, reliable calculator, the HP12C may be for you.  It's programmable.  It does basic statistics well, and many business applications too.  The manual makes sense; you will be up and running in short order.I'm ready to set my 49G aside and move back to my old friend.  I didn't even have to replace the batteries in well over a decade of use!HP 12C, I'm coming home!\n",
            "WHY THIS BELATED REVIEW? I feel very obliged to share my views about this old workhorse, the HP12C GOLD at its 25th anniversary and my 1Oth year as a satisfied ower user and fan. Especially after sharing my frank views on Amazon about two of its three successors on Amazon.com, burying the HP12c Platinum (2004 1st release, HP12cP) and praising the HP12c Platiunum Anniversary Edition (2006 3rd release, HP12cPAE or HP12cPA).To the majority of HP 12c calculator owners and fans, including the non-techkie nerd like myself, the name Hewlett-Packard To the majority of HP 12c calculator owners and fans. The brandname of Hewlett-Packard is synonymous with the highest quality and best range offered in handheld electronic business financial calculators before the first generation of personal computers hits the desktops of business users.To date (December 2007), the bearer of this \"gold\" standard is none other than the HP12C HP's \"golden boy\" in its calculator business segment.The HP12C now a matured product, is the only continuing HP handheld surviving calculator product since '81 and probably the longest selling electronic calculator ever. According to HP almost 15 million HP 12Cs, cPs was sold since ,it is probably the best selling HP (and RPN) calculator ever.As a proven product, the HP12C \"gold\" works from day 1, with its form factor and sofware remaining unchanged and has not been dethroned by rivals and even its HP successors which had come and go.Even with PC software versions being sold, the 12C remains the truly indispensable \"portable\" finance-business heldheld computer for its owners, professionals and students alike. This handy companion powers up immediately and is faster than any portable personal computers to jump right into the action.The HP12C is a serious product and the ultimate time tested solution, field tested proven by its users and survived all its rival products, the workhorse moves on.Anyone in charge of this HP line should always bear in mind that the continued production run of the HP 12c is a testimony of HP's quality and standard expected by its customers.Don't just listen to a HP12C fan here, I own and am using three out of 4 models of the HP 12C series, and it is amusing and somewhat disappointing to observe that it had taken HP at least four years and two major upgrades of the HP 12c Platinium, in its futile attempt to \"fix & retire\" the HP12C with three successors in the form of HP12cPlatinum since 2004.It would seems especially frustrating on the part of HP, to realize after all the effort spent on remaking the HP12cPlatinum models that it would not outdone its siblings the HP10bII and HP17bII+ series to seriously challenge the HP12C Gold.  However, by their own rights the HP10Bs and HP17Bs, and the HP12cPlatinum may find their rightful place in the HP financial calculator line, differentiating the HP12C GOLD in terms of price and functions.IMHO, this had happened because the following golden rules were infringed by HP...GOLDEN RULE I - A PRODUCT WHICH STILL SELLS ITSELF IS NEVER OBSOLETE.GOLDEN RULE II - IF IT AREN'T BROKEN, DON't FIX IT ! \"The gold rule of thumb should always be guarded as gospel by the HP heldheld calculator product team. Based on the same reasoning, the HP12C's built quality and product standard is paramount to its users.GOLDEN RULE III - ALWAYS LISTEN TO YOUR CUSTOMERS! If in doubt, see rules I & II.GOLDEN RULE IV - ONLY OUTSOURCE THE MANUFACTURING OF YOUR PRODUCT TO SOMEONE WHO COULD BETTER YOUR OWN PRODUCT QUALITY. If in doubt ask IBM about Lenovo.GOLDEN RULE V - THE BENCHMARKING INDUSTRY STANDARD FOR THIS PRODUCT LINE IS THE HP12C. Just in case, if HP does not know or is not listening to its customers.GOLDEN RULE VI - DO NOT DISCONTINUE THE ICONIC HP12C GOLD. HP needs no reminder that the customer is always right. Please let your customer, the ultimate market force decide if the HP12C should ever be retired.As an ardent fan of HP12C and line of financial business & scientific calculators, I am of the view that the day when HP discontinue the HP12C would be the day it exit this business segment. I speculate this would happen when the HP brandname disappears from the 12C just like after IBM name had disappeared from ThinkPads and ThinkCentres.Since the price of GOLD is on the rise, it is indeed puzzling to fans of the HP12C, why HP did not release a genuine HP12C gold 25th anniversary model for the fans to mark the occasion, if replacing the discontinuing the HP12C GOLD is the intention READ ALL GOLDEN RULES above.To be fair, the silver HP12c Platinum Anniversary is very nice and has spotted the \"retro\" silver look of the HP 11C, however, it is still not the GOLD standard. With HP missing this golden opportunity to mark the occasion, I would love to see and own a HP 12C engraved with 50th Anniversary logo, reckon that this would be the ultimate testimony for the HP12C and a milestone for its fans.Looking forward, a GOLD 50th anniversary HP12C Anniversary model would be very nice for the fans.For HP, this is a lucrative business proposition. By now, they would have realized that if they have any of its products which could hit a 50th year home run  in 2031, it would not be from its other product line-it would be this original HP12C GOLD standard bearer. So please treat the old workhorse with the upmost respect!\n",
            "I have an HP 48GX that has been kicking for more than twenty years and an HP 11 that is more than 25 years old and still flawless.  I have had this 12C for about 18 months and the number 5 key is already giving me trouble (have to press hard for it to register).  No drops, no abuse.  The overall feel of this new HP is cheaper plastic.  The keys feel hollow and light.  The available functions are great.  This is a classic calculator.  But the functions are no good if the keys stop working...\n",
            "I've started doing more finance stuff recently and went looking for a good time-value-of-money calculator. I was pleasantly surprised to find the HP12C was still available. I've been using HP calculators for decades (HP-45, HP-15 and now an HP-32SII) because of their great feel and long-lasting quality. However, it's also true that the HP12C is probably the last relic of the great HP calculator legacy. It has 'Made In China' stamped on the rear, but the keyboard feel seems much like my dear departed 15C. Hopefully it will have the same long-term durability.Why do I recommend this calculator?*) RPN. In my world, the purpose of a calculator is to solve fairly straightforward math exercises quickly. If you're a college student and need speed and pictures and parenthesis, buy a graphing calculator. If you're solving Black-Scholl's option equations, fire up Excel or something on your desktop computer. But for straightforward punch-it-in calculator work, nothing beats RPN entry.*) Fit and Finish. The keys have good tactile feedback. The display blinks on every entry. You just *know* you've entered the data correctly. The purpose of a calculator is quick, accurate answers at your fingertips. If you don't care about this, don't waste money on this calculator (or any high-end TI or Casio). Buy a $5 Walmart calculator.*) Straightforward financial calculations. Sure, I could write a program for my HP 32SII to do financial calculations. But why, when I can just key in the data directly to the HP12C, push dedicated financial keys, and get immediate answers. This calculator has most of the financial functions you need in a calculator (amortization, depreciation, NPV, date functions, etc.) along with the basic complement of standard calculator functions (ln, mean, standard deviation, factorial, etc). The complexity level is about right for a calculator. It doesn't take a computer science degree to operate it like the graphing calculators require, and it's far more capable than the $5 Walmart brands.*) Speed. I see reviews complaining that this calculator is slow when doing things like IRR computations. They're right. So what? If your IRR computation is that complicated, use a spreadsheet. If you're a college student taking exams, you're better off with a graphing calculator anyway. For 99% of the things the rest of us do with a calculator the 12C is more than fast enough, and the price of speed is power consumption. My 32SII is going on 10 years without a battery replacement, and I trust the 12C will have the same thrifty ways. It's a pain to need a quick answer, reach for the calculator, and then find the batteries are exhausted. This was a regular occurence when I owned TI and Casio brands. I've never had this problem with the HPs I've owned.It also has some programming capabilities which some may find useful. Personally, I haven't used the programming mode in a calculator for many years. Almost invariably I find it easier to just pull up a spreadsheet or write some code.I suspect the under-30 crowd will find this calculator--maybe the whole calculator premise--feels 'dated', and in a way they're right. However, if you're one of those who, like me, use these tools every day and always want one nearby, I think you'll like this calculator. For fit, finish, and a pleasant balance of performance with simplicity it seems to be on par with my earlier HP calculators. (Time will tell, I suppose, whether or not it has the same durability.) What is certain is that in the age of cellphones, PDAs and computers the era of high-quality long-lasting purpose-built calculators is going the way of the Dodo bird.\n",
            "For simple calculations and discounted cash flows, this one is still the best.  I used this in my graduate business program, and for years as a practicing CPA and financial executive.  Of course for complex cash flows you will want to use an Excel spreadsheet; but for quick cash flow calculations the HP12C really is the tool you want.Personally I find Reverse Polish Notation (&#34;RPN&#34;), which is what this calculator uses, to be easy and intuitive.  Many do; some don't.  RPN takes the place of brackets in an arithmetical expression and is easy to learn.The hardware on this calculator is superb.  One of these lasted me decades.  It got lost in an office move, so I am purchasing another.  RJB.\n",
            "While I don't have an MBA, it's hard to believe that a calculator I learned how to use in 1987 during undergraduate business courses is still the standard for the quick calculating financial world. Any finance professional over 30 will know how to use this, and in a pinch, you might need to know how to use it. I know the TI-8x series has financial functions and the graphic capabilities may make those calculators worthwhile. But for most financial pros, if it can't be done on an HP12C, then you probably need a computer.The RPN system isn't hard to learn (at a basic level it works similar to an adding machine), and the functions on this calculator take input and spit out output in a way similar to Excel (i.e. negative numbers for payments and positive for future value, etc.). I found mine the other day after not using it for a while and immediately used it for a discounted cash flow quick analysis I was later planning to do in Excel. It told me the on-the-fly answer I needed.\n",
            "I've had an HP 12C ever since they were first available, roughly twenty years ago.  I'm just in the process of buying another one, as my original one is finally and completely dead.If you're in any business and have anything to do with money (outside of being a cashier), this calculator is essential.  It includes almost every financial function that you need, and quite a few that you probably don't.  Any problem involving the time value of money or finance is a snap with this mini-machine.The only potential problem that I can see for a new user is the RPN format (By the way, RPN stands for Reverse Polish Notation.  It was invented by a Polish mathematician, Jan Lukasiewicz for symbolic logic.)  RPN is different from the traditional method on entering equations into a calculator, but is easy to learn and use...in fact, once you get used to it, the traditional way seems very clumsy.  For die-hards, the HP 12C Platinum Edition includes both traditional and RPN entry methods and is the one that should be purchased.\n",
            "Bought this for my boss because he lost his.  He loves this calculator & would not be caught without it.  It really helps him with his day to day work & he is the CEO of my company.  If the CEO swears by them then they must be a great little calculator.\n",
            "This is a well-designed, simple calculator that handles typical four-function math. Large, easy to read display that includes a comma to help ensure long strings are easier to read. The buttons are slightly sculpted which helps ensure you don't hit more than one at a time, and are nicely spaced. The display angles up and is legible in even somewhat dim lighting.Seems well-built - better than I expected given the price. Excellent choice if you're looking for a small desktop or hand-held calculator.My only complaint is that you can't clear the memory unless you display it. That seems to be the way with all calculators today. A shame -- I have a very old one that allows you to clear memory without displaying the number (e.g., has separate buttons for clear memory and display memory). That comes in handy at times.\n",
            "I love this calculator, big numbers and calculate excellent so easy to use and make my life so much easier.\n"
          ],
          "name": "stdout"
        }
      ]
    },
    {
      "cell_type": "code",
      "metadata": {
        "id": "YVx2KfrtAx50",
        "colab_type": "code",
        "colab": {
          "base_uri": "https://localhost:8080/",
          "height": 85
        },
        "outputId": "142e204a-072c-4927-cbc8-f76df69ac0ad"
      },
      "source": [
        "nltk.download('averaged_perceptron_tagger')"
      ],
      "execution_count": 11,
      "outputs": [
        {
          "output_type": "stream",
          "text": [
            "[nltk_data] Downloading package averaged_perceptron_tagger to\n",
            "[nltk_data]     /root/nltk_data...\n",
            "[nltk_data]   Unzipping taggers/averaged_perceptron_tagger.zip.\n"
          ],
          "name": "stdout"
        },
        {
          "output_type": "execute_result",
          "data": {
            "text/plain": [
              "True"
            ]
          },
          "metadata": {
            "tags": []
          },
          "execution_count": 11
        }
      ]
    },
    {
      "cell_type": "code",
      "metadata": {
        "id": "5cQHDFg8A33C",
        "colab_type": "code",
        "colab": {}
      },
      "source": [
        "def nltk_pos_tag(text):\n",
        "  nltk_pt = {'pos_tag':[]}\n",
        "  nltk_pt['pos_tag']=nltk.pos_tag(text)\n",
        "  return nltk_pt"
      ],
      "execution_count": 0,
      "outputs": []
    },
    {
      "cell_type": "code",
      "metadata": {
        "id": "2AfiG7UiA6dU",
        "colab_type": "code",
        "colab": {}
      },
      "source": [
        "df['reviewText_nltk_pt']=df['reviewText'].apply(nltk_pos_tag)"
      ],
      "execution_count": 0,
      "outputs": []
    },
    {
      "cell_type": "code",
      "metadata": {
        "id": "ODEi03RoA8Vw",
        "colab_type": "code",
        "colab": {}
      },
      "source": [
        "def adj(text):\n",
        "  d=dict(nltk.pos_tag(df['reviewText'][0].split()))\n",
        "  adj=[word for word in d if d[word]=='JJ']\n",
        "  return adj"
      ],
      "execution_count": 0,
      "outputs": []
    },
    {
      "cell_type": "code",
      "metadata": {
        "id": "nQFiAs4XA_BD",
        "colab_type": "code",
        "colab": {}
      },
      "source": [
        "df['reviewText_adj']=df['reviewText'].apply(adj)"
      ],
      "execution_count": 0,
      "outputs": []
    },
    {
      "cell_type": "code",
      "metadata": {
        "id": "_gtMG4mYBBHa",
        "colab_type": "code",
        "colab": {
          "base_uri": "https://localhost:8080/",
          "height": 581
        },
        "outputId": "cab78182-5b8d-4f7a-9a56-5fd867e70619"
      },
      "source": [
        "df.head()"
      ],
      "execution_count": 16,
      "outputs": [
        {
          "output_type": "execute_result",
          "data": {
            "text/html": [
              "<div>\n",
              "<style scoped>\n",
              "    .dataframe tbody tr th:only-of-type {\n",
              "        vertical-align: middle;\n",
              "    }\n",
              "\n",
              "    .dataframe tbody tr th {\n",
              "        vertical-align: top;\n",
              "    }\n",
              "\n",
              "    .dataframe thead th {\n",
              "        text-align: right;\n",
              "    }\n",
              "</style>\n",
              "<table border=\"1\" class=\"dataframe\">\n",
              "  <thead>\n",
              "    <tr style=\"text-align: right;\">\n",
              "      <th></th>\n",
              "      <th>reviewerID</th>\n",
              "      <th>asin</th>\n",
              "      <th>reviewerName</th>\n",
              "      <th>helpful</th>\n",
              "      <th>reviewText</th>\n",
              "      <th>overall</th>\n",
              "      <th>summary</th>\n",
              "      <th>unixReviewTime</th>\n",
              "      <th>reviewTime</th>\n",
              "      <th>reviewText_nltk_t</th>\n",
              "      <th>reviewText_nltk_l</th>\n",
              "      <th>reviewText_nltk_pt</th>\n",
              "      <th>reviewText_adj</th>\n",
              "    </tr>\n",
              "  </thead>\n",
              "  <tbody>\n",
              "    <tr>\n",
              "      <th>0</th>\n",
              "      <td>A32T2H8150OJLU</td>\n",
              "      <td>B00000JBLH</td>\n",
              "      <td>ARH</td>\n",
              "      <td>[3, 4]</td>\n",
              "      <td>I bought my first HP12C in about 1984 or so, a...</td>\n",
              "      <td>5</td>\n",
              "      <td>A solid performer, and long time friend</td>\n",
              "      <td>1094169600</td>\n",
              "      <td>09 3, 2004</td>\n",
              "      <td>{'tokenizer': ['I', 'bought', 'my', 'first', '...</td>\n",
              "      <td>{'lemmatizer': None}</td>\n",
              "      <td>{'pos_tag': [('I', 'PRP'), (' ', 'VBP'), ('b',...</td>\n",
              "      <td>[first, difficult, area., many, disaster.The, ...</td>\n",
              "    </tr>\n",
              "    <tr>\n",
              "      <th>1</th>\n",
              "      <td>A3MAFS04ZABRGO</td>\n",
              "      <td>B00000JBLH</td>\n",
              "      <td>Let it Be \"Alan\"</td>\n",
              "      <td>[7, 9]</td>\n",
              "      <td>WHY THIS BELATED REVIEW? I feel very obliged t...</td>\n",
              "      <td>5</td>\n",
              "      <td>Price of GOLD is up, so don't bury the golden ...</td>\n",
              "      <td>1197676800</td>\n",
              "      <td>12 15, 2007</td>\n",
              "      <td>{'tokenizer': ['WHY', 'THIS', 'BELATED', 'REVI...</td>\n",
              "      <td>{'lemmatizer': None}</td>\n",
              "      <td>{'pos_tag': [('W', 'NNP'), ('H', 'NNP'), ('Y',...</td>\n",
              "      <td>[first, difficult, area., many, disaster.The, ...</td>\n",
              "    </tr>\n",
              "    <tr>\n",
              "      <th>2</th>\n",
              "      <td>A1F1A0QQP2XVH5</td>\n",
              "      <td>B00000JBLH</td>\n",
              "      <td>Mark B</td>\n",
              "      <td>[3, 3]</td>\n",
              "      <td>I have an HP 48GX that has been kicking for mo...</td>\n",
              "      <td>2</td>\n",
              "      <td>Good functionality, but not durable like old HPs</td>\n",
              "      <td>1293840000</td>\n",
              "      <td>01 1, 2011</td>\n",
              "      <td>{'tokenizer': ['I', 'have', 'an', 'HP', '48GX'...</td>\n",
              "      <td>{'lemmatizer': None}</td>\n",
              "      <td>{'pos_tag': [('I', 'PRP'), (' ', 'VBP'), ('h',...</td>\n",
              "      <td>[first, difficult, area., many, disaster.The, ...</td>\n",
              "    </tr>\n",
              "    <tr>\n",
              "      <th>3</th>\n",
              "      <td>A49R5DBXXQDE5</td>\n",
              "      <td>B00000JBLH</td>\n",
              "      <td>R. D Johnson</td>\n",
              "      <td>[7, 8]</td>\n",
              "      <td>I've started doing more finance stuff recently...</td>\n",
              "      <td>5</td>\n",
              "      <td>One of the last of an almost extinct species</td>\n",
              "      <td>1145404800</td>\n",
              "      <td>04 19, 2006</td>\n",
              "      <td>{'tokenizer': ['I', ''ve', 'started', 'doing',...</td>\n",
              "      <td>{'lemmatizer': None}</td>\n",
              "      <td>{'pos_tag': [('I', 'PRP'), (''', ''''), ('v', ...</td>\n",
              "      <td>[first, difficult, area., many, disaster.The, ...</td>\n",
              "    </tr>\n",
              "    <tr>\n",
              "      <th>4</th>\n",
              "      <td>A2XRMQA6PJ5ZJ8</td>\n",
              "      <td>B00000JBLH</td>\n",
              "      <td>Roger J. Buffington</td>\n",
              "      <td>[0, 0]</td>\n",
              "      <td>For simple calculations and discounted cash fl...</td>\n",
              "      <td>5</td>\n",
              "      <td>Still the best</td>\n",
              "      <td>1375574400</td>\n",
              "      <td>08 4, 2013</td>\n",
              "      <td>{'tokenizer': ['For', 'simple', 'calculations'...</td>\n",
              "      <td>{'lemmatizer': None}</td>\n",
              "      <td>{'pos_tag': [('F', 'NNP'), ('o', 'MD'), ('r', ...</td>\n",
              "      <td>[first, difficult, area., many, disaster.The, ...</td>\n",
              "    </tr>\n",
              "  </tbody>\n",
              "</table>\n",
              "</div>"
            ],
            "text/plain": [
              "       reviewerID  ...                                     reviewText_adj\n",
              "0  A32T2H8150OJLU  ...  [first, difficult, area., many, disaster.The, ...\n",
              "1  A3MAFS04ZABRGO  ...  [first, difficult, area., many, disaster.The, ...\n",
              "2  A1F1A0QQP2XVH5  ...  [first, difficult, area., many, disaster.The, ...\n",
              "3   A49R5DBXXQDE5  ...  [first, difficult, area., many, disaster.The, ...\n",
              "4  A2XRMQA6PJ5ZJ8  ...  [first, difficult, area., many, disaster.The, ...\n",
              "\n",
              "[5 rows x 13 columns]"
            ]
          },
          "metadata": {
            "tags": []
          },
          "execution_count": 16
        }
      ]
    },
    {
      "cell_type": "code",
      "metadata": {
        "id": "dPnaMKSgBDN6",
        "colab_type": "code",
        "colab": {}
      },
      "source": [
        "punct = '''!()-[]{};:'\"\\,<>./?@#$%^&*_~'''\n",
        "def punc(str):\n",
        "  no_punc = \"\"\n",
        "  for char in str:\n",
        "    if char not in punct:\n",
        "      no_punc = no_punc + char\n",
        "  return no_punc"
      ],
      "execution_count": 0,
      "outputs": []
    },
    {
      "cell_type": "code",
      "metadata": {
        "id": "10XpUSl4BF8M",
        "colab_type": "code",
        "colab": {}
      },
      "source": [
        "df[\"reviewText_punc\"] = df['reviewText'].apply(punc)\n",
        "df[\"summary_punc\"] = df['summary'].apply(punc)"
      ],
      "execution_count": 0,
      "outputs": []
    },
    {
      "cell_type": "code",
      "metadata": {
        "id": "loT3P4IRBIAX",
        "colab_type": "code",
        "colab": {
          "base_uri": "https://localhost:8080/",
          "height": 180
        },
        "outputId": "23fd218a-4dbd-4c80-ea4b-8172243e2fe7"
      },
      "source": [
        "with open('/content/negative-words.txt','r',encoding='ISO-8859-1') as file:\n",
        "  negative=file.read().replace('/n','')"
      ],
      "execution_count": 21,
      "outputs": [
        {
          "output_type": "error",
          "ename": "FileNotFoundError",
          "evalue": "ignored",
          "traceback": [
            "\u001b[0;31m---------------------------------------------------------------------------\u001b[0m",
            "\u001b[0;31mFileNotFoundError\u001b[0m                         Traceback (most recent call last)",
            "\u001b[0;32m<ipython-input-21-d3e0381fb600>\u001b[0m in \u001b[0;36m<module>\u001b[0;34m()\u001b[0m\n\u001b[0;32m----> 1\u001b[0;31m \u001b[0;32mwith\u001b[0m \u001b[0mopen\u001b[0m\u001b[0;34m(\u001b[0m\u001b[0;34m'/content/negative-words.txt'\u001b[0m\u001b[0;34m,\u001b[0m\u001b[0;34m'r'\u001b[0m\u001b[0;34m,\u001b[0m\u001b[0mencoding\u001b[0m\u001b[0;34m=\u001b[0m\u001b[0;34m'ISO-8859-1'\u001b[0m\u001b[0;34m)\u001b[0m \u001b[0;32mas\u001b[0m \u001b[0mfile\u001b[0m\u001b[0;34m:\u001b[0m\u001b[0;34m\u001b[0m\u001b[0;34m\u001b[0m\u001b[0m\n\u001b[0m\u001b[1;32m      2\u001b[0m   \u001b[0mnegative\u001b[0m\u001b[0;34m=\u001b[0m\u001b[0mfile\u001b[0m\u001b[0;34m.\u001b[0m\u001b[0mread\u001b[0m\u001b[0;34m(\u001b[0m\u001b[0;34m)\u001b[0m\u001b[0;34m.\u001b[0m\u001b[0mreplace\u001b[0m\u001b[0;34m(\u001b[0m\u001b[0;34m'/n'\u001b[0m\u001b[0;34m,\u001b[0m\u001b[0;34m''\u001b[0m\u001b[0;34m)\u001b[0m\u001b[0;34m\u001b[0m\u001b[0;34m\u001b[0m\u001b[0m\n",
            "\u001b[0;31mFileNotFoundError\u001b[0m: [Errno 2] No such file or directory: '/content/negative-words.txt'"
          ]
        }
      ]
    },
    {
      "cell_type": "code",
      "metadata": {
        "id": "9NdSAf7mBJvH",
        "colab_type": "code",
        "colab": {
          "base_uri": "https://localhost:8080/",
          "height": 180
        },
        "outputId": "9099c7a7-ee90-4d64-9130-99c3bc71fef8"
      },
      "source": [
        "with open('/content/positive-words.txt','r') as file:\n",
        "  positive=file.read().replace('/n','')"
      ],
      "execution_count": 22,
      "outputs": [
        {
          "output_type": "error",
          "ename": "FileNotFoundError",
          "evalue": "ignored",
          "traceback": [
            "\u001b[0;31m---------------------------------------------------------------------------\u001b[0m",
            "\u001b[0;31mFileNotFoundError\u001b[0m                         Traceback (most recent call last)",
            "\u001b[0;32m<ipython-input-22-d0b8fb812814>\u001b[0m in \u001b[0;36m<module>\u001b[0;34m()\u001b[0m\n\u001b[0;32m----> 1\u001b[0;31m \u001b[0;32mwith\u001b[0m \u001b[0mopen\u001b[0m\u001b[0;34m(\u001b[0m\u001b[0;34m'/content/positive-words.txt'\u001b[0m\u001b[0;34m,\u001b[0m\u001b[0;34m'r'\u001b[0m\u001b[0;34m)\u001b[0m \u001b[0;32mas\u001b[0m \u001b[0mfile\u001b[0m\u001b[0;34m:\u001b[0m\u001b[0;34m\u001b[0m\u001b[0;34m\u001b[0m\u001b[0m\n\u001b[0m\u001b[1;32m      2\u001b[0m   \u001b[0mpositive\u001b[0m\u001b[0;34m=\u001b[0m\u001b[0mfile\u001b[0m\u001b[0;34m.\u001b[0m\u001b[0mread\u001b[0m\u001b[0;34m(\u001b[0m\u001b[0;34m)\u001b[0m\u001b[0;34m.\u001b[0m\u001b[0mreplace\u001b[0m\u001b[0;34m(\u001b[0m\u001b[0;34m'/n'\u001b[0m\u001b[0;34m,\u001b[0m\u001b[0;34m''\u001b[0m\u001b[0;34m)\u001b[0m\u001b[0;34m\u001b[0m\u001b[0;34m\u001b[0m\u001b[0m\n",
            "\u001b[0;31mFileNotFoundError\u001b[0m: [Errno 2] No such file or directory: '/content/positive-words.txt'"
          ]
        }
      ]
    },
    {
      "cell_type": "code",
      "metadata": {
        "id": "BtggSWEqBLff",
        "colab_type": "code",
        "colab": {}
      },
      "source": [
        "def sentiment(text):\n",
        "  text=text.lower()\n",
        "  positive_adj=0\n",
        "  negative_adj=0\n",
        "  objective_words=0\n",
        "  k=dict(nltk.pos_tag(text.split()))\n",
        "  adj=[word for word in k if k[word].startswith('JJ')]\n",
        "  for words in adj:\n",
        "    if words in positive:\n",
        "      positive_adj +=1\n",
        "    elif words in negative:\n",
        "      negative_adj +=1\n",
        "    else:\n",
        "      objective_words+=1\n",
        "  if(positive_adj&negative_adj)==0:\n",
        "    sentiment_score='Cannot be determined'\n",
        "  else:\n",
        "    sentiment_score=(positive_adj-negative_adj)/(positive_adj+negative_adj)\n",
        "    \n",
        "  adj_score={'Positive Adjective Count':positive_adj,'Negative Adjective Count':negative_adj,'Objective Word Count':objective_words,'Sentiment Score':sentiment_score}\n",
        "  return adj_score"
      ],
      "execution_count": 0,
      "outputs": []
    },
    {
      "cell_type": "code",
      "metadata": {
        "id": "bq-JCqq1BN_E",
        "colab_type": "code",
        "colab": {
          "base_uri": "https://localhost:8080/",
          "height": 357
        },
        "outputId": "eded6dac-6adc-41d9-d2fc-3bbbaa81655b"
      },
      "source": [
        "df[\"reviewText_sentiment\"] = df['reviewText'].apply(sentiment)\n",
        "df.head()"
      ],
      "execution_count": 24,
      "outputs": [
        {
          "output_type": "error",
          "ename": "NameError",
          "evalue": "ignored",
          "traceback": [
            "\u001b[0;31m---------------------------------------------------------------------------\u001b[0m",
            "\u001b[0;31mNameError\u001b[0m                                 Traceback (most recent call last)",
            "\u001b[0;32m<ipython-input-24-2e5562ccc824>\u001b[0m in \u001b[0;36m<module>\u001b[0;34m()\u001b[0m\n\u001b[0;32m----> 1\u001b[0;31m \u001b[0mdf\u001b[0m\u001b[0;34m[\u001b[0m\u001b[0;34m\"reviewText_sentiment\"\u001b[0m\u001b[0;34m]\u001b[0m \u001b[0;34m=\u001b[0m \u001b[0mdf\u001b[0m\u001b[0;34m[\u001b[0m\u001b[0;34m'reviewText'\u001b[0m\u001b[0;34m]\u001b[0m\u001b[0;34m.\u001b[0m\u001b[0mapply\u001b[0m\u001b[0;34m(\u001b[0m\u001b[0msentiment\u001b[0m\u001b[0;34m)\u001b[0m\u001b[0;34m\u001b[0m\u001b[0;34m\u001b[0m\u001b[0m\n\u001b[0m\u001b[1;32m      2\u001b[0m \u001b[0mdf\u001b[0m\u001b[0;34m.\u001b[0m\u001b[0mhead\u001b[0m\u001b[0;34m(\u001b[0m\u001b[0;34m)\u001b[0m\u001b[0;34m\u001b[0m\u001b[0;34m\u001b[0m\u001b[0m\n",
            "\u001b[0;32m/usr/local/lib/python3.6/dist-packages/pandas/core/series.py\u001b[0m in \u001b[0;36mapply\u001b[0;34m(self, func, convert_dtype, args, **kwds)\u001b[0m\n\u001b[1;32m   4043\u001b[0m             \u001b[0;32melse\u001b[0m\u001b[0;34m:\u001b[0m\u001b[0;34m\u001b[0m\u001b[0;34m\u001b[0m\u001b[0m\n\u001b[1;32m   4044\u001b[0m                 \u001b[0mvalues\u001b[0m \u001b[0;34m=\u001b[0m \u001b[0mself\u001b[0m\u001b[0;34m.\u001b[0m\u001b[0mastype\u001b[0m\u001b[0;34m(\u001b[0m\u001b[0mobject\u001b[0m\u001b[0;34m)\u001b[0m\u001b[0;34m.\u001b[0m\u001b[0mvalues\u001b[0m\u001b[0;34m\u001b[0m\u001b[0;34m\u001b[0m\u001b[0m\n\u001b[0;32m-> 4045\u001b[0;31m                 \u001b[0mmapped\u001b[0m \u001b[0;34m=\u001b[0m \u001b[0mlib\u001b[0m\u001b[0;34m.\u001b[0m\u001b[0mmap_infer\u001b[0m\u001b[0;34m(\u001b[0m\u001b[0mvalues\u001b[0m\u001b[0;34m,\u001b[0m \u001b[0mf\u001b[0m\u001b[0;34m,\u001b[0m \u001b[0mconvert\u001b[0m\u001b[0;34m=\u001b[0m\u001b[0mconvert_dtype\u001b[0m\u001b[0;34m)\u001b[0m\u001b[0;34m\u001b[0m\u001b[0;34m\u001b[0m\u001b[0m\n\u001b[0m\u001b[1;32m   4046\u001b[0m \u001b[0;34m\u001b[0m\u001b[0m\n\u001b[1;32m   4047\u001b[0m         \u001b[0;32mif\u001b[0m \u001b[0mlen\u001b[0m\u001b[0;34m(\u001b[0m\u001b[0mmapped\u001b[0m\u001b[0;34m)\u001b[0m \u001b[0;32mand\u001b[0m \u001b[0misinstance\u001b[0m\u001b[0;34m(\u001b[0m\u001b[0mmapped\u001b[0m\u001b[0;34m[\u001b[0m\u001b[0;36m0\u001b[0m\u001b[0;34m]\u001b[0m\u001b[0;34m,\u001b[0m \u001b[0mSeries\u001b[0m\u001b[0;34m)\u001b[0m\u001b[0;34m:\u001b[0m\u001b[0;34m\u001b[0m\u001b[0;34m\u001b[0m\u001b[0m\n",
            "\u001b[0;32mpandas/_libs/lib.pyx\u001b[0m in \u001b[0;36mpandas._libs.lib.map_infer\u001b[0;34m()\u001b[0m\n",
            "\u001b[0;32m<ipython-input-23-5a628d477a19>\u001b[0m in \u001b[0;36msentiment\u001b[0;34m(text)\u001b[0m\n\u001b[1;32m      7\u001b[0m   \u001b[0madj\u001b[0m\u001b[0;34m=\u001b[0m\u001b[0;34m[\u001b[0m\u001b[0mword\u001b[0m \u001b[0;32mfor\u001b[0m \u001b[0mword\u001b[0m \u001b[0;32min\u001b[0m \u001b[0mk\u001b[0m \u001b[0;32mif\u001b[0m \u001b[0mk\u001b[0m\u001b[0;34m[\u001b[0m\u001b[0mword\u001b[0m\u001b[0;34m]\u001b[0m\u001b[0;34m.\u001b[0m\u001b[0mstartswith\u001b[0m\u001b[0;34m(\u001b[0m\u001b[0;34m'JJ'\u001b[0m\u001b[0;34m)\u001b[0m\u001b[0;34m]\u001b[0m\u001b[0;34m\u001b[0m\u001b[0;34m\u001b[0m\u001b[0m\n\u001b[1;32m      8\u001b[0m   \u001b[0;32mfor\u001b[0m \u001b[0mwords\u001b[0m \u001b[0;32min\u001b[0m \u001b[0madj\u001b[0m\u001b[0;34m:\u001b[0m\u001b[0;34m\u001b[0m\u001b[0;34m\u001b[0m\u001b[0m\n\u001b[0;32m----> 9\u001b[0;31m     \u001b[0;32mif\u001b[0m \u001b[0mwords\u001b[0m \u001b[0;32min\u001b[0m \u001b[0mpositive\u001b[0m\u001b[0;34m:\u001b[0m\u001b[0;34m\u001b[0m\u001b[0;34m\u001b[0m\u001b[0m\n\u001b[0m\u001b[1;32m     10\u001b[0m       \u001b[0mpositive_adj\u001b[0m \u001b[0;34m+=\u001b[0m\u001b[0;36m1\u001b[0m\u001b[0;34m\u001b[0m\u001b[0;34m\u001b[0m\u001b[0m\n\u001b[1;32m     11\u001b[0m     \u001b[0;32melif\u001b[0m \u001b[0mwords\u001b[0m \u001b[0;32min\u001b[0m \u001b[0mnegative\u001b[0m\u001b[0;34m:\u001b[0m\u001b[0;34m\u001b[0m\u001b[0;34m\u001b[0m\u001b[0m\n",
            "\u001b[0;31mNameError\u001b[0m: name 'positive' is not defined"
          ]
        }
      ]
    }
  ]
}