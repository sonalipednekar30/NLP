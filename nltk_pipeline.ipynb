{
  "nbformat": 4,
  "nbformat_minor": 0,
  "metadata": {
    "colab": {
      "name": "nltk pipeline.ipynb",
      "provenance": [],
      "include_colab_link": true
    },
    "kernelspec": {
      "name": "python3",
      "display_name": "Python 3"
    }
  },
  "cells": [
    {
      "cell_type": "markdown",
      "metadata": {
        "id": "view-in-github",
        "colab_type": "text"
      },
      "source": [
        "<a href=\"https://colab.research.google.com/github/sonalipednekar30/NLP/blob/master/nltk_pipeline.ipynb\" target=\"_parent\"><img src=\"https://colab.research.google.com/assets/colab-badge.svg\" alt=\"Open In Colab\"/></a>"
      ]
    },
    {
      "cell_type": "code",
      "metadata": {
        "id": "khbxISsVr5iu",
        "colab_type": "code",
        "colab": {}
      },
      "source": [
        "import pandas as pd\n",
        "import nltk"
      ],
      "execution_count": 0,
      "outputs": []
    },
    {
      "cell_type": "code",
      "metadata": {
        "id": "Y8O1zd91sUTo",
        "colab_type": "code",
        "colab": {
          "base_uri": "https://localhost:8080/",
          "height": 134
        },
        "outputId": "88140213-e89d-430f-f3f2-7cf9f047d97a"
      },
      "source": [
        "from nltk.tokenize import MWETokenizer\n",
        "from nltk.stem import WordNetLemmatizer\n",
        "from nltk import pos_tag\n",
        "nltk.download('wordnet')\n",
        "nltk.download('averaged_perceptron_tagger')\n",
        "nltk.download('punkt')\n",
        "mwet = MWETokenizer()\n",
        "lem = WordNetLemmatizer()"
      ],
      "execution_count": 3,
      "outputs": [
        {
          "output_type": "stream",
          "text": [
            "[nltk_data] Downloading package wordnet to /root/nltk_data...\n",
            "[nltk_data]   Unzipping corpora/wordnet.zip.\n",
            "[nltk_data] Downloading package averaged_perceptron_tagger to\n",
            "[nltk_data]     /root/nltk_data...\n",
            "[nltk_data]   Unzipping taggers/averaged_perceptron_tagger.zip.\n",
            "[nltk_data] Downloading package punkt to /root/nltk_data...\n",
            "[nltk_data]   Unzipping tokenizers/punkt.zip.\n"
          ],
          "name": "stdout"
        }
      ]
    },
    {
      "cell_type": "code",
      "metadata": {
        "id": "qrWH3RNasUkQ",
        "colab_type": "code",
        "colab": {}
      },
      "source": [
        "data = pd.read_json('http://snap.stanford.edu/data/amazon/productGraph/categoryFiles/reviews_Office_Products_5.json.gz',lines=True)\n",
        "df = pd.DataFrame(data)"
      ],
      "execution_count": 0,
      "outputs": []
    },
    {
      "cell_type": "code",
      "metadata": {
        "id": "jmWF243UsUxE",
        "colab_type": "code",
        "colab": {
          "base_uri": "https://localhost:8080/",
          "height": 54
        },
        "outputId": "deee8e8a-cf3a-4047-96e3-919896f100eb"
      },
      "source": [
        "text = df['reviewText'][7]\n",
        "text"
      ],
      "execution_count": 5,
      "outputs": [
        {
          "output_type": "execute_result",
          "data": {
            "text/plain": [
              "'Bought this for my boss because he lost his.  He loves this calculator & would not be caught without it.  It really helps him with his day to day work & he is the CEO of my company.  If the CEO swears by them then they must be a great little calculator.'"
            ]
          },
          "metadata": {
            "tags": []
          },
          "execution_count": 5
        }
      ]
    },
    {
      "cell_type": "code",
      "metadata": {
        "id": "tlnjj_7TsU3R",
        "colab_type": "code",
        "colab": {}
      },
      "source": [
        "def nltk_pipeline(str):\n",
        "  word_tokenize = nltk.tokenize.word_tokenize(str)\n",
        "  mwe_tokenize = mwet.tokenize(str.split())\n",
        "  lemm = ' '.join([lem.lemmatize(word,'v') for word in mwe_tokenize])\n",
        "  Word_Tokenize_Lem = ' '.join([lem.lemmatize(word,'v') for word in word_tokenize])\n",
        "  pos = dict(pos_tag(str.split()))\n",
        "  adj = ' '.join(tag for tag in pos if pos[tag] == 'JJ')\n",
        "  result = {'WordTokenize' : word_tokenize,'MWETokens' : mwe_tokenize, 'MWELemma' : lemm, 'WordTokenizeLemma': Word_Tokenize_Lem, 'Position' : pos,  'Adjective' : adj  }\n",
        "  return result"
      ],
      "execution_count": 0,
      "outputs": []
    },
    {
      "cell_type": "code",
      "metadata": {
        "id": "RZpJP344sU9k",
        "colab_type": "code",
        "colab": {
          "base_uri": "https://localhost:8080/",
          "height": 1000
        },
        "outputId": "e32d92a1-739b-4166-9f84-7a35833d1e64"
      },
      "source": [
        "nltk_pipeline(text)"
      ],
      "execution_count": 10,
      "outputs": [
        {
          "output_type": "execute_result",
          "data": {
            "text/plain": [
              "{'Adjective': 'great little',\n",
              " 'MWELemma': 'Bought this for my boss because he lose his. He love this calculator & would not be catch without it. It really help him with his day to day work & he be the CEO of my company. If the CEO swear by them then they must be a great little calculator.',\n",
              " 'MWETokens': ['Bought',\n",
              "  'this',\n",
              "  'for',\n",
              "  'my',\n",
              "  'boss',\n",
              "  'because',\n",
              "  'he',\n",
              "  'lost',\n",
              "  'his.',\n",
              "  'He',\n",
              "  'loves',\n",
              "  'this',\n",
              "  'calculator',\n",
              "  '&',\n",
              "  'would',\n",
              "  'not',\n",
              "  'be',\n",
              "  'caught',\n",
              "  'without',\n",
              "  'it.',\n",
              "  'It',\n",
              "  'really',\n",
              "  'helps',\n",
              "  'him',\n",
              "  'with',\n",
              "  'his',\n",
              "  'day',\n",
              "  'to',\n",
              "  'day',\n",
              "  'work',\n",
              "  '&',\n",
              "  'he',\n",
              "  'is',\n",
              "  'the',\n",
              "  'CEO',\n",
              "  'of',\n",
              "  'my',\n",
              "  'company.',\n",
              "  'If',\n",
              "  'the',\n",
              "  'CEO',\n",
              "  'swears',\n",
              "  'by',\n",
              "  'them',\n",
              "  'then',\n",
              "  'they',\n",
              "  'must',\n",
              "  'be',\n",
              "  'a',\n",
              "  'great',\n",
              "  'little',\n",
              "  'calculator.'],\n",
              " 'Position': {'&': 'CC',\n",
              "  'Bought': 'NNP',\n",
              "  'CEO': 'NNP',\n",
              "  'He': 'PRP',\n",
              "  'If': 'IN',\n",
              "  'It': 'PRP',\n",
              "  'a': 'DT',\n",
              "  'be': 'VB',\n",
              "  'because': 'IN',\n",
              "  'boss': 'NN',\n",
              "  'by': 'IN',\n",
              "  'calculator': 'NN',\n",
              "  'calculator.': 'NN',\n",
              "  'caught': 'VBN',\n",
              "  'company.': 'NN',\n",
              "  'day': 'NN',\n",
              "  'for': 'IN',\n",
              "  'great': 'JJ',\n",
              "  'he': 'PRP',\n",
              "  'helps': 'VBZ',\n",
              "  'him': 'PRP',\n",
              "  'his': 'PRP$',\n",
              "  'his.': 'NN',\n",
              "  'is': 'VBZ',\n",
              "  'it.': 'NN',\n",
              "  'little': 'JJ',\n",
              "  'lost': 'VBD',\n",
              "  'loves': 'VBZ',\n",
              "  'must': 'MD',\n",
              "  'my': 'PRP$',\n",
              "  'not': 'RB',\n",
              "  'of': 'IN',\n",
              "  'really': 'RB',\n",
              "  'swears': 'NNS',\n",
              "  'the': 'DT',\n",
              "  'them': 'PRP',\n",
              "  'then': 'RB',\n",
              "  'they': 'PRP',\n",
              "  'this': 'DT',\n",
              "  'to': 'TO',\n",
              "  'with': 'IN',\n",
              "  'without': 'IN',\n",
              "  'work': 'NN',\n",
              "  'would': 'MD'},\n",
              " 'WordTokenize': ['Bought',\n",
              "  'this',\n",
              "  'for',\n",
              "  'my',\n",
              "  'boss',\n",
              "  'because',\n",
              "  'he',\n",
              "  'lost',\n",
              "  'his',\n",
              "  '.',\n",
              "  'He',\n",
              "  'loves',\n",
              "  'this',\n",
              "  'calculator',\n",
              "  '&',\n",
              "  'would',\n",
              "  'not',\n",
              "  'be',\n",
              "  'caught',\n",
              "  'without',\n",
              "  'it',\n",
              "  '.',\n",
              "  'It',\n",
              "  'really',\n",
              "  'helps',\n",
              "  'him',\n",
              "  'with',\n",
              "  'his',\n",
              "  'day',\n",
              "  'to',\n",
              "  'day',\n",
              "  'work',\n",
              "  '&',\n",
              "  'he',\n",
              "  'is',\n",
              "  'the',\n",
              "  'CEO',\n",
              "  'of',\n",
              "  'my',\n",
              "  'company',\n",
              "  '.',\n",
              "  'If',\n",
              "  'the',\n",
              "  'CEO',\n",
              "  'swears',\n",
              "  'by',\n",
              "  'them',\n",
              "  'then',\n",
              "  'they',\n",
              "  'must',\n",
              "  'be',\n",
              "  'a',\n",
              "  'great',\n",
              "  'little',\n",
              "  'calculator',\n",
              "  '.'],\n",
              " 'WordTokenizeLemma': 'Bought this for my boss because he lose his . He love this calculator & would not be catch without it . It really help him with his day to day work & he be the CEO of my company . If the CEO swear by them then they must be a great little calculator .'}"
            ]
          },
          "metadata": {
            "tags": []
          },
          "execution_count": 10
        }
      ]
    }
  ]
}